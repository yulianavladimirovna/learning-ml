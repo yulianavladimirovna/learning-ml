{
  "nbformat": 4,
  "nbformat_minor": 0,
  "metadata": {
    "colab": {
      "provenance": []
    },
    "kernelspec": {
      "name": "python3",
      "display_name": "Python 3"
    },
    "language_info": {
      "name": "python"
    }
  },
  "cells": [
    {
      "cell_type": "markdown",
      "source": [
        "# Gradient Boosting on Decision Trees\n"
      ],
      "metadata": {
        "id": "s2ns4AL53irm"
      }
    },
    {
      "cell_type": "markdown",
      "source": [
        "Устанавливаем нужные версии библиотек, чтобы версии xgboost и sklearn не противоречили друг другу"
      ],
      "metadata": {
        "id": "xFkr4vUygskR"
      }
    },
    {
      "cell_type": "code",
      "source": [
        "!pip uninstall xgboost\n",
        "!pip install xgboost==1.6.0\n",
        "!pip uninstall scikit-learn\n",
        "!pip install scikit-learn==1.3.1"
      ],
      "metadata": {
        "colab": {
          "base_uri": "https://localhost:8080/"
        },
        "id": "D2i6nJR6did9",
        "outputId": "d384a31b-63c1-4785-ba94-85a70b66b63f",
        "collapsed": true
      },
    },
    {
      "cell_type": "markdown",
      "source": [
        "Устанвливаем catboost"
      ],
      "metadata": {
        "id": "Sk72pgAxhIj6"
      }
    },
    {
      "cell_type": "code",
      "source": [
        "!pip install catboost"
      ],
      "metadata": {
        "colab": {
          "base_uri": "https://localhost:8080/"
        },
        "id": "OYEHwVzXYuSD",
        "outputId": "e0202c4d-b941-4375-a118-0a9ed59e7ace",
        "collapsed": true
      },
      "execution_count": 2,
    },
    {
      "cell_type": "markdown",
      "source": [
        "Подключаем используемые библиотеки"
      ],
      "metadata": {
        "id": "OPH1NpcdhMQm"
      }
    },
    {
      "cell_type": "code",
      "execution_count": 3,
      "metadata": {
        "id": "AwrnB2n1YK7p"
      },
      "outputs": [],
      "source": [
        "from sklearn.datasets import fetch_covtype\n",
        "import pandas as pd\n",
        "import matplotlib.pyplot as plt\n",
        "from sklearn.model_selection import train_test_split\n",
        "from xgboost import XGBClassifier\n",
        "import sklearn\n",
        "import numpy as np\n",
        "from sklearn.utils.class_weight import compute_class_weight\n",
        "from sklearn.metrics import log_loss, accuracy_score\n",
        "import catboost\n",
        "from catboost import CatBoostClassifier"
      ]
    },
    {
      "cell_type": "markdown",
      "source": [
        "Загружаем датасет из стандартной библиотеки sklearn (по типам почв)"
      ],
      "metadata": {
        "id": "LvZxD5B7hV4p"
      }
    },
    {
      "cell_type": "code",
      "source": [
        "fetch = fetch_covtype()\n",
        "df = pd.DataFrame(fetch.data[:50_000], columns=fetch.feature_names)\n",
        "df['target'] = fetch.target[:50_000]\n",
        "\n",
        "df.head()"
      ],
      "metadata": {
        "colab": {
          "base_uri": "https://localhost:8080/",
          "height": 255
        },
        "id": "YJADRfWfYpRq",
        "outputId": "168dc0bf-fe0c-4376-c613-fa17de47dd34"
      },
      "execution_count": 4,
      "outputs": [
        {
          "output_type": "execute_result",
          "data": {
            "text/plain": [
              "   Elevation  Aspect  Slope  Horizontal_Distance_To_Hydrology  \\\n",
              "0     2596.0    51.0    3.0                             258.0   \n",
              "1     2590.0    56.0    2.0                             212.0   \n",
              "2     2804.0   139.0    9.0                             268.0   \n",
              "3     2785.0   155.0   18.0                             242.0   \n",
              "4     2595.0    45.0    2.0                             153.0   \n",
              "\n",
              "   Vertical_Distance_To_Hydrology  Horizontal_Distance_To_Roadways  \\\n",
              "0                             0.0                            510.0   \n",
              "1                            -6.0                            390.0   \n",
              "2                            65.0                           3180.0   \n",
              "3                           118.0                           3090.0   \n",
              "4                            -1.0                            391.0   \n",
              "\n",
              "   Hillshade_9am  Hillshade_Noon  Hillshade_3pm  \\\n",
              "0          221.0           232.0          148.0   \n",
              "1          220.0           235.0          151.0   \n",
              "2          234.0           238.0          135.0   \n",
              "3          238.0           238.0          122.0   \n",
              "4          220.0           234.0          150.0   \n",
              "\n",
              "   Horizontal_Distance_To_Fire_Points  ...  Soil_Type_31  Soil_Type_32  \\\n",
              "0                              6279.0  ...           0.0           0.0   \n",
              "1                              6225.0  ...           0.0           0.0   \n",
              "2                              6121.0  ...           0.0           0.0   \n",
              "3                              6211.0  ...           0.0           0.0   \n",
              "4                              6172.0  ...           0.0           0.0   \n",
              "\n",
              "   Soil_Type_33  Soil_Type_34  Soil_Type_35  Soil_Type_36  Soil_Type_37  \\\n",
              "0           0.0           0.0           0.0           0.0           0.0   \n",
              "1           0.0           0.0           0.0           0.0           0.0   \n",
              "2           0.0           0.0           0.0           0.0           0.0   \n",
              "3           0.0           0.0           0.0           0.0           0.0   \n",
              "4           0.0           0.0           0.0           0.0           0.0   \n",
              "\n",
              "   Soil_Type_38  Soil_Type_39  target  \n",
              "0           0.0           0.0       5  \n",
              "1           0.0           0.0       5  \n",
              "2           0.0           0.0       2  \n",
              "3           0.0           0.0       2  \n",
              "4           0.0           0.0       5  \n",
              "\n",
              "[5 rows x 55 columns]"
            ],
            "text/html": [
              "\n",
              "  <div id=\"df-40138dc0-b2f4-49e5-b6f0-ca4b6b806d43\" class=\"colab-df-container\">\n",
              "    <div>\n",
              "<style scoped>\n",
              "    .dataframe tbody tr th:only-of-type {\n",
              "        vertical-align: middle;\n",
              "    }\n",
              "\n",
              "    .dataframe tbody tr th {\n",
              "        vertical-align: top;\n",
              "    }\n",
              "\n",
              "    .dataframe thead th {\n",
              "        text-align: right;\n",
              "    }\n",
              "</style>\n",
              "<table border=\"1\" class=\"dataframe\">\n",
              "  <thead>\n",
              "    <tr style=\"text-align: right;\">\n",
              "      <th></th>\n",
              "      <th>Elevation</th>\n",
              "      <th>Aspect</th>\n",
              "      <th>Slope</th>\n",
              "      <th>Horizontal_Distance_To_Hydrology</th>\n",
              "      <th>Vertical_Distance_To_Hydrology</th>\n",
              "      <th>Horizontal_Distance_To_Roadways</th>\n",
              "      <th>Hillshade_9am</th>\n",
              "      <th>Hillshade_Noon</th>\n",
              "      <th>Hillshade_3pm</th>\n",
              "      <th>Horizontal_Distance_To_Fire_Points</th>\n",
              "      <th>...</th>\n",
              "      <th>Soil_Type_31</th>\n",
              "      <th>Soil_Type_32</th>\n",
              "      <th>Soil_Type_33</th>\n",
              "      <th>Soil_Type_34</th>\n",
              "      <th>Soil_Type_35</th>\n",
              "      <th>Soil_Type_36</th>\n",
              "      <th>Soil_Type_37</th>\n",
              "      <th>Soil_Type_38</th>\n",
              "      <th>Soil_Type_39</th>\n",
              "      <th>target</th>\n",
              "    </tr>\n",
              "  </thead>\n",
              "  <tbody>\n",
              "    <tr>\n",
              "      <th>0</th>\n",
              "      <td>2596.0</td>\n",
              "      <td>51.0</td>\n",
              "      <td>3.0</td>\n",
              "      <td>258.0</td>\n",
              "      <td>0.0</td>\n",
              "      <td>510.0</td>\n",
              "      <td>221.0</td>\n",
              "      <td>232.0</td>\n",
              "      <td>148.0</td>\n",
              "      <td>6279.0</td>\n",
              "      <td>...</td>\n",
              "      <td>0.0</td>\n",
              "      <td>0.0</td>\n",
              "      <td>0.0</td>\n",
              "      <td>0.0</td>\n",
              "      <td>0.0</td>\n",
              "      <td>0.0</td>\n",
              "      <td>0.0</td>\n",
              "      <td>0.0</td>\n",
              "      <td>0.0</td>\n",
              "      <td>5</td>\n",
              "    </tr>\n",
              "    <tr>\n",
              "      <th>1</th>\n",
              "      <td>2590.0</td>\n",
              "      <td>56.0</td>\n",
              "      <td>2.0</td>\n",
              "      <td>212.0</td>\n",
              "      <td>-6.0</td>\n",
              "      <td>390.0</td>\n",
              "      <td>220.0</td>\n",
              "      <td>235.0</td>\n",
              "      <td>151.0</td>\n",
              "      <td>6225.0</td>\n",
              "      <td>...</td>\n",
              "      <td>0.0</td>\n",
              "      <td>0.0</td>\n",
              "      <td>0.0</td>\n",
              "      <td>0.0</td>\n",
              "      <td>0.0</td>\n",
              "      <td>0.0</td>\n",
              "      <td>0.0</td>\n",
              "      <td>0.0</td>\n",
              "      <td>0.0</td>\n",
              "      <td>5</td>\n",
              "    </tr>\n",
              "    <tr>\n",
              "      <th>2</th>\n",
              "      <td>2804.0</td>\n",
              "      <td>139.0</td>\n",
              "      <td>9.0</td>\n",
              "      <td>268.0</td>\n",
              "      <td>65.0</td>\n",
              "      <td>3180.0</td>\n",
              "      <td>234.0</td>\n",
              "      <td>238.0</td>\n",
              "      <td>135.0</td>\n",
              "      <td>6121.0</td>\n",
              "      <td>...</td>\n",
              "      <td>0.0</td>\n",
              "      <td>0.0</td>\n",
              "      <td>0.0</td>\n",
              "      <td>0.0</td>\n",
              "      <td>0.0</td>\n",
              "      <td>0.0</td>\n",
              "      <td>0.0</td>\n",
              "      <td>0.0</td>\n",
              "      <td>0.0</td>\n",
              "      <td>2</td>\n",
              "    </tr>\n",
              "    <tr>\n",
              "      <th>3</th>\n",
              "      <td>2785.0</td>\n",
              "      <td>155.0</td>\n",
              "      <td>18.0</td>\n",
              "      <td>242.0</td>\n",
              "      <td>118.0</td>\n",
              "      <td>3090.0</td>\n",
              "      <td>238.0</td>\n",
              "      <td>238.0</td>\n",
              "      <td>122.0</td>\n",
              "      <td>6211.0</td>\n",
              "      <td>...</td>\n",
              "      <td>0.0</td>\n",
              "      <td>0.0</td>\n",
              "      <td>0.0</td>\n",
              "      <td>0.0</td>\n",
              "      <td>0.0</td>\n",
              "      <td>0.0</td>\n",
              "      <td>0.0</td>\n",
              "      <td>0.0</td>\n",
              "      <td>0.0</td>\n",
              "      <td>2</td>\n",
              "    </tr>\n",
              "    <tr>\n",
              "      <th>4</th>\n",
              "      <td>2595.0</td>\n",
              "      <td>45.0</td>\n",
              "      <td>2.0</td>\n",
              "      <td>153.0</td>\n",
              "      <td>-1.0</td>\n",
              "      <td>391.0</td>\n",
              "      <td>220.0</td>\n",
              "      <td>234.0</td>\n",
              "      <td>150.0</td>\n",
              "      <td>6172.0</td>\n",
              "      <td>...</td>\n",
              "      <td>0.0</td>\n",
              "      <td>0.0</td>\n",
              "      <td>0.0</td>\n",
              "      <td>0.0</td>\n",
              "      <td>0.0</td>\n",
              "      <td>0.0</td>\n",
              "      <td>0.0</td>\n",
              "      <td>0.0</td>\n",
              "      <td>0.0</td>\n",
              "      <td>5</td>\n",
              "    </tr>\n",
              "  </tbody>\n",
              "</table>\n",
              "<p>5 rows × 55 columns</p>\n",
              "</div>\n",
              "    <div class=\"colab-df-buttons\">\n",
              "\n",
              "  <div class=\"colab-df-container\">\n",
              "    <button class=\"colab-df-convert\" onclick=\"convertToInteractive('df-40138dc0-b2f4-49e5-b6f0-ca4b6b806d43')\"\n",
              "            title=\"Convert this dataframe to an interactive table.\"\n",
              "            style=\"display:none;\">\n",
              "\n",
              "  <svg xmlns=\"http://www.w3.org/2000/svg\" height=\"24px\" viewBox=\"0 -960 960 960\">\n",
              "    <path d=\"M120-120v-720h720v720H120Zm60-500h600v-160H180v160Zm220 220h160v-160H400v160Zm0 220h160v-160H400v160ZM180-400h160v-160H180v160Zm440 0h160v-160H620v160ZM180-180h160v-160H180v160Zm440 0h160v-160H620v160Z\"/>\n",
              "  </svg>\n",
              "    </button>\n",
              "\n",
              "  <style>\n",
              "    .colab-df-container {\n",
              "      display:flex;\n",
              "      gap: 12px;\n",
              "    }\n",
              "\n",
              "    .colab-df-convert {\n",
              "      background-color: #E8F0FE;\n",
              "      border: none;\n",
              "      border-radius: 50%;\n",
              "      cursor: pointer;\n",
              "      display: none;\n",
              "      fill: #1967D2;\n",
              "      height: 32px;\n",
              "      padding: 0 0 0 0;\n",
              "      width: 32px;\n",
              "    }\n",
              "\n",
              "    .colab-df-convert:hover {\n",
              "      background-color: #E2EBFA;\n",
              "      box-shadow: 0px 1px 2px rgba(60, 64, 67, 0.3), 0px 1px 3px 1px rgba(60, 64, 67, 0.15);\n",
              "      fill: #174EA6;\n",
              "    }\n",
              "\n",
              "    .colab-df-buttons div {\n",
              "      margin-bottom: 4px;\n",
              "    }\n",
              "\n",
              "    [theme=dark] .colab-df-convert {\n",
              "      background-color: #3B4455;\n",
              "      fill: #D2E3FC;\n",
              "    }\n",
              "\n",
              "    [theme=dark] .colab-df-convert:hover {\n",
              "      background-color: #434B5C;\n",
              "      box-shadow: 0px 1px 3px 1px rgba(0, 0, 0, 0.15);\n",
              "      filter: drop-shadow(0px 1px 2px rgba(0, 0, 0, 0.3));\n",
              "      fill: #FFFFFF;\n",
              "    }\n",
              "  </style>\n",
              "\n",
              "    <script>\n",
              "      const buttonEl =\n",
              "        document.querySelector('#df-40138dc0-b2f4-49e5-b6f0-ca4b6b806d43 button.colab-df-convert');\n",
              "      buttonEl.style.display =\n",
              "        google.colab.kernel.accessAllowed ? 'block' : 'none';\n",
              "\n",
              "      async function convertToInteractive(key) {\n",
              "        const element = document.querySelector('#df-40138dc0-b2f4-49e5-b6f0-ca4b6b806d43');\n",
              "        const dataTable =\n",
              "          await google.colab.kernel.invokeFunction('convertToInteractive',\n",
              "                                                    [key], {});\n",
              "        if (!dataTable) return;\n",
              "\n",
              "        const docLinkHtml = 'Like what you see? Visit the ' +\n",
              "          '<a target=\"_blank\" href=https://colab.research.google.com/notebooks/data_table.ipynb>data table notebook</a>'\n",
              "          + ' to learn more about interactive tables.';\n",
              "        element.innerHTML = '';\n",
              "        dataTable['output_type'] = 'display_data';\n",
              "        await google.colab.output.renderOutput(dataTable, element);\n",
              "        const docLink = document.createElement('div');\n",
              "        docLink.innerHTML = docLinkHtml;\n",
              "        element.appendChild(docLink);\n",
              "      }\n",
              "    </script>\n",
              "  </div>\n",
              "\n",
              "\n",
              "<div id=\"df-04b91e60-08a0-4705-9fb3-38de954166a9\">\n",
              "  <button class=\"colab-df-quickchart\" onclick=\"quickchart('df-04b91e60-08a0-4705-9fb3-38de954166a9')\"\n",
              "            title=\"Suggest charts\"\n",
              "            style=\"display:none;\">\n",
              "\n",
              "<svg xmlns=\"http://www.w3.org/2000/svg\" height=\"24px\"viewBox=\"0 0 24 24\"\n",
              "     width=\"24px\">\n",
              "    <g>\n",
              "        <path d=\"M19 3H5c-1.1 0-2 .9-2 2v14c0 1.1.9 2 2 2h14c1.1 0 2-.9 2-2V5c0-1.1-.9-2-2-2zM9 17H7v-7h2v7zm4 0h-2V7h2v10zm4 0h-2v-4h2v4z\"/>\n",
              "    </g>\n",
              "</svg>\n",
              "  </button>\n",
              "\n",
              "<style>\n",
              "  .colab-df-quickchart {\n",
              "      --bg-color: #E8F0FE;\n",
              "      --fill-color: #1967D2;\n",
              "      --hover-bg-color: #E2EBFA;\n",
              "      --hover-fill-color: #174EA6;\n",
              "      --disabled-fill-color: #AAA;\n",
              "      --disabled-bg-color: #DDD;\n",
              "  }\n",
              "\n",
              "  [theme=dark] .colab-df-quickchart {\n",
              "      --bg-color: #3B4455;\n",
              "      --fill-color: #D2E3FC;\n",
              "      --hover-bg-color: #434B5C;\n",
              "      --hover-fill-color: #FFFFFF;\n",
              "      --disabled-bg-color: #3B4455;\n",
              "      --disabled-fill-color: #666;\n",
              "  }\n",
              "\n",
              "  .colab-df-quickchart {\n",
              "    background-color: var(--bg-color);\n",
              "    border: none;\n",
              "    border-radius: 50%;\n",
              "    cursor: pointer;\n",
              "    display: none;\n",
              "    fill: var(--fill-color);\n",
              "    height: 32px;\n",
              "    padding: 0;\n",
              "    width: 32px;\n",
              "  }\n",
              "\n",
              "  .colab-df-quickchart:hover {\n",
              "    background-color: var(--hover-bg-color);\n",
              "    box-shadow: 0 1px 2px rgba(60, 64, 67, 0.3), 0 1px 3px 1px rgba(60, 64, 67, 0.15);\n",
              "    fill: var(--button-hover-fill-color);\n",
              "  }\n",
              "\n",
              "  .colab-df-quickchart-complete:disabled,\n",
              "  .colab-df-quickchart-complete:disabled:hover {\n",
              "    background-color: var(--disabled-bg-color);\n",
              "    fill: var(--disabled-fill-color);\n",
              "    box-shadow: none;\n",
              "  }\n",
              "\n",
              "  .colab-df-spinner {\n",
              "    border: 2px solid var(--fill-color);\n",
              "    border-color: transparent;\n",
              "    border-bottom-color: var(--fill-color);\n",
              "    animation:\n",
              "      spin 1s steps(1) infinite;\n",
              "  }\n",
              "\n",
              "  @keyframes spin {\n",
              "    0% {\n",
              "      border-color: transparent;\n",
              "      border-bottom-color: var(--fill-color);\n",
              "      border-left-color: var(--fill-color);\n",
              "    }\n",
              "    20% {\n",
              "      border-color: transparent;\n",
              "      border-left-color: var(--fill-color);\n",
              "      border-top-color: var(--fill-color);\n",
              "    }\n",
              "    30% {\n",
              "      border-color: transparent;\n",
              "      border-left-color: var(--fill-color);\n",
              "      border-top-color: var(--fill-color);\n",
              "      border-right-color: var(--fill-color);\n",
              "    }\n",
              "    40% {\n",
              "      border-color: transparent;\n",
              "      border-right-color: var(--fill-color);\n",
              "      border-top-color: var(--fill-color);\n",
              "    }\n",
              "    60% {\n",
              "      border-color: transparent;\n",
              "      border-right-color: var(--fill-color);\n",
              "    }\n",
              "    80% {\n",
              "      border-color: transparent;\n",
              "      border-right-color: var(--fill-color);\n",
              "      border-bottom-color: var(--fill-color);\n",
              "    }\n",
              "    90% {\n",
              "      border-color: transparent;\n",
              "      border-bottom-color: var(--fill-color);\n",
              "    }\n",
              "  }\n",
              "</style>\n",
              "\n",
              "  <script>\n",
              "    async function quickchart(key) {\n",
              "      const quickchartButtonEl =\n",
              "        document.querySelector('#' + key + ' button');\n",
              "      quickchartButtonEl.disabled = true;  // To prevent multiple clicks.\n",
              "      quickchartButtonEl.classList.add('colab-df-spinner');\n",
              "      try {\n",
              "        const charts = await google.colab.kernel.invokeFunction(\n",
              "            'suggestCharts', [key], {});\n",
              "      } catch (error) {\n",
              "        console.error('Error during call to suggestCharts:', error);\n",
              "      }\n",
              "      quickchartButtonEl.classList.remove('colab-df-spinner');\n",
              "      quickchartButtonEl.classList.add('colab-df-quickchart-complete');\n",
              "    }\n",
              "    (() => {\n",
              "      let quickchartButtonEl =\n",
              "        document.querySelector('#df-04b91e60-08a0-4705-9fb3-38de954166a9 button');\n",
              "      quickchartButtonEl.style.display =\n",
              "        google.colab.kernel.accessAllowed ? 'block' : 'none';\n",
              "    })();\n",
              "  </script>\n",
              "</div>\n",
              "\n",
              "    </div>\n",
              "  </div>\n"
            ],
            "application/vnd.google.colaboratory.intrinsic+json": {
              "type": "dataframe",
              "variable_name": "df"
            }
          },
          "metadata": {},
          "execution_count": 4
        }
      ]
    },
    {
      "cell_type": "markdown",
      "source": [
        "Уникальные таргеты"
      ],
      "metadata": {
        "id": "Xd0QiXBChoAi"
      }
    },
    {
      "cell_type": "code",
      "source": [
        "targets = df['target'].unique()\n",
        "targets"
      ],
      "metadata": {
        "colab": {
          "base_uri": "https://localhost:8080/"
        },
        "id": "VK6c-RqLY_V7",
        "outputId": "6d1e468d-9f20-4e6e-be40-201635ac8bf0"
      },
      "execution_count": 5,
      "outputs": [
        {
          "output_type": "execute_result",
          "data": {
            "text/plain": [
              "array([5, 2, 1, 7, 3, 6, 4], dtype=int32)"
            ]
          },
          "metadata": {},
          "execution_count": 5
        }
      ]
    },
    {
      "cell_type": "markdown",
      "source": [
        "Функция отрисовки распределения данных"
      ],
      "metadata": {
        "id": "oyJ2W0dwhqlQ"
      }
    },
    {
      "cell_type": "code",
      "source": [
        "def is_data_balanced(df, target_name):\n",
        "  data_plt = pd.DataFrame(df[target_name].value_counts())\n",
        "  x = data_plt.index.to_list()\n",
        "  y = data_plt[\"count\"].to_list()\n",
        "  fig, ax = plt.subplots()\n",
        "  pps = ax.bar(x, y, color='lightskyblue', edgecolor='black')\n",
        "  for p in pps:\n",
        "    height = round(p.get_height() / sum(y), 2)\n",
        "    ax.text(x=p.get_x() + p.get_width() / 2, y=p.get_height()/2,\n",
        "        s=\"{}%\".format(round(height * 100, 2)),\n",
        "        ha='center')\n",
        "  plt.xticks(sorted(x), sorted(x), rotation=0)\n",
        "  plt.show()"
      ],
      "metadata": {
        "id": "BrYjdML7ZR_q"
      },
      "execution_count": 6,
      "outputs": []
    },
    {
      "cell_type": "markdown",
      "source": [
        "Распределение по таргету"
      ],
      "metadata": {
        "id": "YeJUiC1Rhvxz"
      }
    },
    {
      "cell_type": "code",
      "source": [
        "is_data_balanced(df, 'target')"
      ],
      "metadata": {
        "colab": {
          "base_uri": "https://localhost:8080/",
          "height": 432
        },
        "id": "bmQBmdybZUxs",
        "outputId": "5e9a7906-fe74-4557-80d6-8c229cb03dba"
      },
      "execution_count": 7,
      "outputs": [
        {
          "output_type": "display_data",
          "data": {
            "text/plain": [
              "<Figure size 640x480 with 1 Axes>"
            ],
            "image/png": "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\n"
          },
          "metadata": {}
        }
      ]
    },
    {
      "cell_type": "markdown",
      "source": [
        "Данные несбалансированы, это важно учесть при построении модели."
      ],
      "metadata": {
        "id": "U6K3b9vlh44J"
      }
    },
    {
      "cell_type": "code",
      "source": [
        "df.isnull().sum().sum()"
      ],
      "metadata": {
        "colab": {
          "base_uri": "https://localhost:8080/"
        },
        "id": "1Whunsu7ZaRb",
        "outputId": "d964cb85-513a-4039-9cdc-db7e536132fb"
      },
      "execution_count": 8,
      "outputs": [
        {
          "output_type": "execute_result",
          "data": {
            "text/plain": [
              "0"
            ]
          },
          "metadata": {},
          "execution_count": 8
        }
      ]
    },
    {
      "cell_type": "markdown",
      "source": [
        "Нет пустых значений. (но, вобще говоря, GBDT умеет обрабатывать пропущенные значения)"
      ],
      "metadata": {
        "id": "HkQe0Q4Ch8q5"
      }
    },
    {
      "cell_type": "markdown",
      "source": [
        "Деревья устойчивы к выбросам, поскольку разбиения зависят от порогов, которые минимизируеют неоднородность, считаем, что количество выбросов мало => они не сильно влияют на порог (а их абсолютное значение и вовсе не учитывается)."
      ],
      "metadata": {
        "id": "ZUiBXKcTiBqh"
      }
    },
    {
      "cell_type": "code",
      "source": [
        "X = df.drop('target', axis=1)\n",
        "y = df['target'] - 1 # таргеты должны быть в диапазоне (0, n) - особенность xgboost\n",
        "\n",
        "X_train, X_temp, y_train, y_temp = train_test_split(X, y, test_size=0.3, random_state=42)\n",
        "X_val, X_test, y_val, y_test = train_test_split(X_temp, y_temp, test_size=0.5, random_state=42)\n",
        "eval_set = [(X_val, y_val)] # валидационная выборка"
      ],
      "metadata": {
        "id": "1h5cI7BOZfGG"
      },
      "execution_count": 9,
      "outputs": []
    },
    {
      "cell_type": "markdown",
      "source": [
        "Поскольку данные несбалансированны (на самом деле данный срез имеет лишь один доминирующий класс, но есть взять исходный датасет, то там заметный дисбаланс, который необходимо регулировать), могут возникнуть большие по модулю антиградиенты, поэтому ограничиваем изменение, которое может происходить на одном шаге обучения, параметром max_delta_step."
      ],
      "metadata": {
        "id": "G46PJbogiGI-"
      }
    },
    {
      "cell_type": "code",
      "source": [
        "# веса классов\n",
        "class_weights = compute_class_weight(\n",
        "    class_weight='balanced',\n",
        "    classes=np.unique(y_train),\n",
        "    y=y_train\n",
        ")\n",
        "\n",
        "class_weights_dict = dict(zip(np.unique(y_train), class_weights))\n",
        "\n",
        "# генерируем веса для каждого образца на основе классов\n",
        "sample_weights = np.array([class_weights_dict[class_label] for class_label in y_train])"
      ],
      "metadata": {
        "id": "VuqavO1MZidc"
      },
      "execution_count": 10,
      "outputs": []
    },
    {
      "cell_type": "markdown",
      "source": [
        "# XGBoost"
      ],
      "metadata": {
        "id": "zpjU_TRPiSWq"
      }
    },
    {
      "cell_type": "code",
      "source": [
        "xgmodel = XGBClassifier(\n",
        "    n_estimators=700, # число деревьев\n",
        "    max_depth=2, # глубина деревьев\n",
        "    learning_rate=0.1, # темп обучения\n",
        "    objective='multi:softprob', # лосс функция для многоклассовой задачи\n",
        "    # метрика оценки на валидации - лог лосс по умолчанию\n",
        "    early_stopping_rounds=10, # ранняя остановка\n",
        "    min_child_weight=10, # минимальное число объектов в листе\n",
        "    random_seed=42, # для воспроизводимости\n",
        "    # class_weight=class_weights_dict # веса классов\n",
        ")\n",
        "\n",
        "xgmodel.fit(\n",
        "    X_train, y_train,\n",
        "    eval_set=eval_set,\n",
        "    sample_weight=sample_weights,  # Передаем веса образцов\n",
        "    verbose=True\n",
        ")"
      ],
      "metadata": {
        "colab": {
          "base_uri": "https://localhost:8080/",
          "height": 1000
        },
        "id": "U0-P3Fy3Zlpc",
        "outputId": "0078d0c3-feac-46e8-94b7-7dee98a1c26a"
      },
      "execution_count": 11,
      "outputs": [
        {
          "output_type": "stream",
          "name": "stdout",
          "text": [
            "[0]\tvalidation_0-mlogloss:1.79055\n",
            "[1]\tvalidation_0-mlogloss:1.66895\n",
            "[2]\tvalidation_0-mlogloss:1.57258\n",
            "[3]\tvalidation_0-mlogloss:1.49086\n",
            "[4]\tvalidation_0-mlogloss:1.42099\n",
            ...
            "[695]\tvalidation_0-mlogloss:0.36228\n",
            "[696]\tvalidation_0-mlogloss:0.36209\n",
            "[697]\tvalidation_0-mlogloss:0.36192\n",
            "[698]\tvalidation_0-mlogloss:0.36180\n",
            "[699]\tvalidation_0-mlogloss:0.36165\n"
          ]
        },
        {
          "output_type": "execute_result",
          "data": {
            "text/plain": [
              "XGBClassifier(base_score=0.5, booster='gbtree', callbacks=None,\n",
              "              colsample_bylevel=1, colsample_bynode=1, colsample_bytree=1,\n",
              "              early_stopping_rounds=10, enable_categorical=False,\n",
              "              eval_metric=None, gamma=0, gpu_id=-1, grow_policy='depthwise',\n",
              "              importance_type=None, interaction_constraints='',\n",
              "              learning_rate=0.1, max_bin=256, max_cat_to_onehot=4,\n",
              "              max_delta_step=0, max_depth=2, max_leaves=0, min_child_weight=10,\n",
              "              missing=nan, monotone_constraints='()', n_estimators=700,\n",
              "              n_jobs=0, num_parallel_tree=1, objective='multi:softprob',\n",
              "              predictor='auto', random_seed=42, random_state=0, ...)"
            ],
            "text/html": [
              "<style>#sk-container-id-1 {color: black;}#sk-container-id-1 pre{padding: 0;}#sk-container-id-1 div.sk-toggleable {background-color: white;}#sk-container-id-1 label.sk-toggleable__label {cursor: pointer;display: block;width: 100%;margin-bottom: 0;padding: 0.3em;box-sizing: border-box;text-align: center;}#sk-container-id-1 label.sk-toggleable__label-arrow:before {content: \"▸\";float: left;margin-right: 0.25em;color: #696969;}#sk-container-id-1 label.sk-toggleable__label-arrow:hover:before {color: black;}#sk-container-id-1 div.sk-estimator:hover label.sk-toggleable__label-arrow:before {color: black;}#sk-container-id-1 div.sk-toggleable__content {max-height: 0;max-width: 0;overflow: hidden;text-align: left;background-color: #f0f8ff;}#sk-container-id-1 div.sk-toggleable__content pre {margin: 0.2em;color: black;border-radius: 0.25em;background-color: #f0f8ff;}#sk-container-id-1 input.sk-toggleable__control:checked~div.sk-toggleable__content {max-height: 200px;max-width: 100%;overflow: auto;}#sk-container-id-1 input.sk-toggleable__control:checked~label.sk-toggleable__label-arrow:before {content: \"▾\";}#sk-container-id-1 div.sk-estimator input.sk-toggleable__control:checked~label.sk-toggleable__label {background-color: #d4ebff;}#sk-container-id-1 div.sk-label input.sk-toggleable__control:checked~label.sk-toggleable__label {background-color: #d4ebff;}#sk-container-id-1 input.sk-hidden--visually {border: 0;clip: rect(1px 1px 1px 1px);clip: rect(1px, 1px, 1px, 1px);height: 1px;margin: -1px;overflow: hidden;padding: 0;position: absolute;width: 1px;}#sk-container-id-1 div.sk-estimator {font-family: monospace;background-color: #f0f8ff;border: 1px dotted black;border-radius: 0.25em;box-sizing: border-box;margin-bottom: 0.5em;}#sk-container-id-1 div.sk-estimator:hover {background-color: #d4ebff;}#sk-container-id-1 div.sk-parallel-item::after {content: \"\";width: 100%;border-bottom: 1px solid gray;flex-grow: 1;}#sk-container-id-1 div.sk-label:hover label.sk-toggleable__label {background-color: #d4ebff;}#sk-container-id-1 div.sk-serial::before {content: \"\";position: absolute;border-left: 1px solid gray;box-sizing: border-box;top: 0;bottom: 0;left: 50%;z-index: 0;}#sk-container-id-1 div.sk-serial {display: flex;flex-direction: column;align-items: center;background-color: white;padding-right: 0.2em;padding-left: 0.2em;position: relative;}#sk-container-id-1 div.sk-item {position: relative;z-index: 1;}#sk-container-id-1 div.sk-parallel {display: flex;align-items: stretch;justify-content: center;background-color: white;position: relative;}#sk-container-id-1 div.sk-item::before, #sk-container-id-1 div.sk-parallel-item::before {content: \"\";position: absolute;border-left: 1px solid gray;box-sizing: border-box;top: 0;bottom: 0;left: 50%;z-index: -1;}#sk-container-id-1 div.sk-parallel-item {display: flex;flex-direction: column;z-index: 1;position: relative;background-color: white;}#sk-container-id-1 div.sk-parallel-item:first-child::after {align-self: flex-end;width: 50%;}#sk-container-id-1 div.sk-parallel-item:last-child::after {align-self: flex-start;width: 50%;}#sk-container-id-1 div.sk-parallel-item:only-child::after {width: 0;}#sk-container-id-1 div.sk-dashed-wrapped {border: 1px dashed gray;margin: 0 0.4em 0.5em 0.4em;box-sizing: border-box;padding-bottom: 0.4em;background-color: white;}#sk-container-id-1 div.sk-label label {font-family: monospace;font-weight: bold;display: inline-block;line-height: 1.2em;}#sk-container-id-1 div.sk-label-container {text-align: center;}#sk-container-id-1 div.sk-container {/* jupyter's `normalize.less` sets `[hidden] { display: none; }` but bootstrap.min.css set `[hidden] { display: none !important; }` so we also need the `!important` here to be able to override the default hidden behavior on the sphinx rendered scikit-learn.org. See: https://github.com/scikit-learn/scikit-learn/issues/21755 */display: inline-block !important;position: relative;}#sk-container-id-1 div.sk-text-repr-fallback {display: none;}</style><div id=\"sk-container-id-1\" class=\"sk-top-container\"><div class=\"sk-text-repr-fallback\"><pre>XGBClassifier(base_score=0.5, booster=&#x27;gbtree&#x27;, callbacks=None,\n",
              "              colsample_bylevel=1, colsample_bynode=1, colsample_bytree=1,\n",
              "              early_stopping_rounds=10, enable_categorical=False,\n",
              "              eval_metric=None, gamma=0, gpu_id=-1, grow_policy=&#x27;depthwise&#x27;,\n",
              "              importance_type=None, interaction_constraints=&#x27;&#x27;,\n",
              "              learning_rate=0.1, max_bin=256, max_cat_to_onehot=4,\n",
              "              max_delta_step=0, max_depth=2, max_leaves=0, min_child_weight=10,\n",
              "              missing=nan, monotone_constraints=&#x27;()&#x27;, n_estimators=700,\n",
              "              n_jobs=0, num_parallel_tree=1, objective=&#x27;multi:softprob&#x27;,\n",
              "              predictor=&#x27;auto&#x27;, random_seed=42, random_state=0, ...)</pre><b>In a Jupyter environment, please rerun this cell to show the HTML representation or trust the notebook. <br />On GitHub, the HTML representation is unable to render, please try loading this page with nbviewer.org.</b></div><div class=\"sk-container\" hidden><div class=\"sk-item\"><div class=\"sk-estimator sk-toggleable\"><input class=\"sk-toggleable__control sk-hidden--visually\" id=\"sk-estimator-id-1\" type=\"checkbox\" checked><label for=\"sk-estimator-id-1\" class=\"sk-toggleable__label sk-toggleable__label-arrow\">XGBClassifier</label><div class=\"sk-toggleable__content\"><pre>XGBClassifier(base_score=0.5, booster=&#x27;gbtree&#x27;, callbacks=None,\n",
              "              colsample_bylevel=1, colsample_bynode=1, colsample_bytree=1,\n",
              "              early_stopping_rounds=10, enable_categorical=False,\n",
              "              eval_metric=None, gamma=0, gpu_id=-1, grow_policy=&#x27;depthwise&#x27;,\n",
              "              importance_type=None, interaction_constraints=&#x27;&#x27;,\n",
              "              learning_rate=0.1, max_bin=256, max_cat_to_onehot=4,\n",
              "              max_delta_step=0, max_depth=2, max_leaves=0, min_child_weight=10,\n",
              "              missing=nan, monotone_constraints=&#x27;()&#x27;, n_estimators=700,\n",
              "              n_jobs=0, num_parallel_tree=1, objective=&#x27;multi:softprob&#x27;,\n",
              "              predictor=&#x27;auto&#x27;, random_seed=42, random_state=0, ...)</pre></div></div></div></div></div>"
            ]
          },
          "metadata": {},
          "execution_count": 11
        }
      ]
    },
    {
      "cell_type": "markdown",
      "source": [
        "В каждой строке выводится метрика лог-лосс (так как она дефолтная для многоклассовой классификации) на интерации, указанной в []. Мы хотим, чтобы на каждой итерации метрика уменьшалась (иначе сработает преждевременное окончание обучения из-за параметра early_stopping_rounds=10)."
      ],
      "metadata": {
        "id": "GOLVhjqqibU-"
      }
    },
    {
      "cell_type": "markdown",
      "source": [
        "Функция вывода метрик (лог лосс и точность)"
      ],
      "metadata": {
        "id": "C-J68k6NiiUq"
      }
    },
    {
      "cell_type": "code",
      "source": [
        "def model_metrics(model, X_train, y_train, X_test, y_test):\n",
        "  train_preds = model.predict(X_train)\n",
        "  train_probs = model.predict_proba(X_train)\n",
        "  train_log_loss = log_loss(y_train, train_probs)\n",
        "  train_acc = accuracy_score(y_train, train_preds)\n",
        "\n",
        "  test_preds = model.predict(X_test)\n",
        "  test_probs = model.predict_proba(X_test)\n",
        "  test_log_loss = log_loss(y_test, test_probs)\n",
        "  test_acc = accuracy_score(y_test, test_preds)\n",
        "\n",
        "  print(f\"Train Log Loss: {train_log_loss }\")\n",
        "  print(f\"Test Log Loss: {test_log_loss}\")\n",
        "  print(f\"Train Accuracy: {train_acc}\")\n",
        "  print(f\"Test Accuracy: {test_acc}\")"
      ],
      "metadata": {
        "id": "qsID7jeUgDm0"
      },
      "execution_count": 12,
      "outputs": []
    },
    {
      "cell_type": "code",
      "source": [
        "model_metrics(xgmodel, X_train, y_train, X_test, y_test)"
      ],
      "metadata": {
        "colab": {
          "base_uri": "https://localhost:8080/"
        },
        "id": "1efwuDX8gKXc",
        "outputId": "cb7ac44b-da48-40c4-80e0-209085e9da87"
      },
      "execution_count": 13,
      "outputs": [
        {
          "output_type": "stream",
          "name": "stdout",
          "text": [
            "Train Log Loss: 0.3205199692332348\n",
            "Test Log Loss: 0.34972313931225557\n",
            "Train Accuracy: 0.8878857142857143\n",
            "Test Accuracy: 0.874\n"
          ]
        }
      ]
    },
    {
      "cell_type": "markdown",
      "source": [
        "Параметры подобраны таким образом, чтобы модель достигла наилучших метрик, но при этом не переобучилась."
      ],
      "metadata": {
        "id": "u3ERNRaUig1P"
      }
    },
    {
      "cell_type": "markdown",
      "source": [
        "# CatBoost"
      ],
      "metadata": {
        "id": "1NecorX2ioQ7"
      }
    },
    {
      "cell_type": "markdown",
      "source": [
        "Запустим модель с теми же параметрами"
      ],
      "metadata": {
        "id": "3aA6DSuN0uys"
      }
    },
    {
      "cell_type": "code",
      "source": [
        "catmodel = CatBoostClassifier(\n",
        "    iterations=700,             # число деревьев\n",
        "    depth=2,                    # глубина деревьев\n",
        "    learning_rate=0.1,          # темп обучения\n",
        "    loss_function='MultiClass', # лосс функция для многоклассовой задачи\n",
        "    eval_metric='MultiClass',   # метрика оценки на валидации\n",
        "    min_data_in_leaf=10,        # минимальное число объектов в листе\n",
        "    # class_weights=list(class_weights_dict.values()),  # веса классов\n",
        "    early_stopping_rounds=10,   # ранняя остановка\n",
        "    random_seed=42,             # для воспроизводимости\n",
        ")\n",
        "\n",
        "catmodel.fit(\n",
        "    X_train, y_train,\n",
        "    eval_set=eval_set,\n",
        "    sample_weight=sample_weights,  # передаем веса образцов\n",
        "    verbose=True\n",
        ")"
      ],
      "metadata": {
        "colab": {
          "base_uri": "https://localhost:8080/"
        },
        "id": "WbHVUZq2gQMA",
        "outputId": "24b2e131-2125-42c6-ce2b-6c3e4e4d774f"
      },
      "execution_count": 14,
      "outputs": [
        {
          "output_type": "stream",
          "name": "stdout",
          "text": [
            "0:\tlearn: 1.8051767\ttest: 1.7953805\tbest: 1.7953805 (0)\ttotal: 71.1ms\tremaining: 49.7s\n",
            "1:\tlearn: 1.7037617\ttest: 1.7212059\tbest: 1.7212059 (1)\ttotal: 93.6ms\tremaining: 32.7s\n",
            "2:\tlearn: 1.6256589\ttest: 1.6610462\tbest: 1.6610462 (2)\ttotal: 115ms\tremaining: 26.8s\n",
            "3:\tlearn: 1.5437456\ttest: 1.5570342\tbest: 1.5570342 (3)\ttotal: 138ms\tremaining: 24.1s\n",
            "4:\tlearn: 1.4759888\ttest: 1.4794420\tbest: 1.4794420 (4)\ttotal: 162ms\tremaining: 22.5s\n",
            ...
            "695:\tlearn: 0.3903112\ttest: 0.4698882\tbest: 0.4698851 (693)\ttotal: 18s\tremaining: 104ms\n",
            "696:\tlearn: 0.3902137\ttest: 0.4698661\tbest: 0.4698661 (696)\ttotal: 18s\tremaining: 77.6ms\n",
            "697:\tlearn: 0.3901745\ttest: 0.4698394\tbest: 0.4698394 (697)\ttotal: 18.1s\tremaining: 51.7ms\n",
            "698:\tlearn: 0.3900154\ttest: 0.4696971\tbest: 0.4696971 (698)\ttotal: 18.1s\tremaining: 25.9ms\n",
            "699:\tlearn: 0.3896318\ttest: 0.4694038\tbest: 0.4694038 (699)\ttotal: 18.1s\tremaining: 0us\n",
            "\n",
            "bestTest = 0.4694038309\n",
            "bestIteration = 699\n",
            "\n"
          ]
        },
        {
          "output_type": "execute_result",
          "data": {
            "text/plain": [
              "<catboost.core.CatBoostClassifier at 0x7975f4bcef90>"
            ]
          },
          "metadata": {},
          "execution_count": 14
        }
      ]
    },
    {
      "cell_type": "code",
      "source": [
        "model_metrics(catmodel, X_train, y_train, X_test, y_test)"
      ],
      "metadata": {
        "colab": {
          "base_uri": "https://localhost:8080/"
        },
        "id": "POLS6x7ngcn9",
        "outputId": "c46b32cb-95c0-4040-c719-7bfda38a1588"
      },
      "execution_count": 15,
      "outputs": [
        {
          "output_type": "stream",
          "name": "stdout",
          "text": [
            "Train Log Loss: 0.4472803999891677\n",
            "Test Log Loss: 0.46076338192447996\n",
            "Train Accuracy: 0.8468571428571429\n",
            "Test Accuracy: 0.8381333333333333\n"
          ]
        }
      ]
    },
    {
      "cell_type": "markdown",
      "source": [
        "Подберем параметры для этой модели"
      ],
      "metadata": {
        "id": "Nvq7z5P_1gcG"
      }
    },
    {
      "cell_type": "code",
      "source": [
        "catmodel = CatBoostClassifier(\n",
        "    iterations=1000,             # число деревьев\n",
        "    depth=3,                    # глубина деревьев\n",
        "    learning_rate=0.12,          # темп обучения\n",
        "    loss_function='MultiClass', # лосс функция для многоклассовой задачи\n",
        "    eval_metric='MultiClass',   # метрика оценки на валидации\n",
        "    min_data_in_leaf=10,        # минимальное число объектов в листе\n",
        "    # class_weights=list(class_weights_dict.values()),  # веса классов\n",
        "    early_stopping_rounds=10,   # ранняя остановка\n",
        "    random_seed=42,             # для воспроизводимости\n",
        ")\n",
        "\n",
        "catmodel.fit(\n",
        "    X_train, y_train,\n",
        "    eval_set=eval_set,\n",
        "    sample_weight=sample_weights,  # передаем веса образцов\n",
        "    verbose=False\n",
        ")"
      ],
      "metadata": {
        "colab": {
          "base_uri": "https://localhost:8080/"
        },
        "id": "JV0LSKdy1FUk",
        "outputId": "d1f226d8-e5fd-44c8-f9f1-3e6fe1567d29"
      },
      "execution_count": 20,
      "outputs": [
        {
          "output_type": "execute_result",
          "data": {
            "text/plain": [
              "<catboost.core.CatBoostClassifier at 0x7975ff833290>"
            ]
          },
          "metadata": {},
          "execution_count": 20
        }
      ]
    },
    {
      "cell_type": "code",
      "source": [
        "model_metrics(catmodel, X_train, y_train, X_test, y_test)"
      ],
      "metadata": {
        "colab": {
          "base_uri": "https://localhost:8080/"
        },
        "id": "5KZ1HjfX1SX0",
        "outputId": "a9dd7417-1560-4636-b676-1f62f5abec4a"
      },
      "execution_count": 21,
      "outputs": [
        {
          "output_type": "stream",
          "name": "stdout",
          "text": [
            "Train Log Loss: 0.3291594775317349\n",
            "Test Log Loss: 0.3540049224679061\n",
            "Train Accuracy: 0.8862571428571429\n",
            "Test Accuracy: 0.87\n"
          ]
        }
      ]
    },
    {
      "cell_type": "markdown",
      "source": [
        "В нашем случае модели дают близкие значения метрик. Однако релизация градиентного бутинга и построения деревьев в частности отличаются в рассматриваемых библиотеках. \\\n",
        "XGBoost и CatBoost с предполагает разный метод построения деревьев: в первом строятся ассимметричные деревья, а во второй симметричные деревья. \\\n",
        "CatBoost часто имеет более низкий логлосс из-за симметричной структуры деревьев, которые предотвращают переобучение. \\\n",
        "XGBoost может давать более высокий логлосс, если модель переобучается из-за агрессивного поиска разбиений. Как следствие, эта модель требует более тщательного подбора гиперпараметров. \\\n",
        "Еще фреймворки отличаются тем, что XGBoost хуже работает с категориальными данными. CatBoost предпочтителен для работы с данными с сильным дисбалансом.\n"
      ],
      "metadata": {
        "id": "dwAXwBWJkczl"
      }
    }
  ]
}
